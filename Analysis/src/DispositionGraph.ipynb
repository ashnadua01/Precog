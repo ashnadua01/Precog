{
 "cells": [
  {
   "cell_type": "code",
   "execution_count": 4,
   "id": "421cd6e8",
   "metadata": {},
   "outputs": [],
   "source": [
    "import pandas as pd\n",
    "import matplotlib.pyplot as plt\n",
    "import plotly.express as px\n",
    "import seaborn as sns\n",
    "import numpy as np"
   ]
  },
  {
   "cell_type": "code",
   "execution_count": 5,
   "id": "6e98de94",
   "metadata": {},
   "outputs": [],
   "source": [
    "dfActs = pd.read_csv('/Users/ashnadua/Desktop/PrecogTask/csv/acts_sections.csv', dtype={\n",
    "    'ddl_case_id': str,\n",
    "    'act': 'Int64',\n",
    "    'section': 'Int64',\n",
    "    'bailable_ipc': bytes,\n",
    "    'number_sections_ipc': bytes,\n",
    "    'criminal': int\n",
    "})"
   ]
  },
  {
   "cell_type": "code",
   "execution_count": 6,
   "id": "38bf5f73",
   "metadata": {},
   "outputs": [],
   "source": [
    "dfcases2010 = pd.read_csv('/Users/ashnadua/Desktop/PrecogTask/csv/cases/cases/cases_2010.csv', dtype={\n",
    "    'ddl_case_id': str\n",
    "})"
   ]
  },
  {
   "cell_type": "code",
   "execution_count": 7,
   "id": "0da3ecf3",
   "metadata": {},
   "outputs": [],
   "source": [
    "dfcases2011 = pd.read_csv('/Users/ashnadua/Desktop/PrecogTask/csv/cases/cases/cases_2011.csv', dtype={\n",
    "    'ddl_case_id': str\n",
    "})"
   ]
  },
  {
   "cell_type": "code",
   "execution_count": 8,
   "id": "1bedb1b4",
   "metadata": {},
   "outputs": [],
   "source": [
    "dfcases2013 = pd.read_csv('/Users/ashnadua/Desktop/PrecogTask/csv/cases/cases/cases_2013.csv', dtype={\n",
    "    'ddl_case_id': str\n",
    "})"
   ]
  },
  {
   "cell_type": "code",
   "execution_count": 9,
   "id": "6b2a0373",
   "metadata": {},
   "outputs": [],
   "source": [
    "dfcases2014 = pd.read_csv('/Users/ashnadua/Desktop/PrecogTask/csv/cases/cases/cases_2014.csv', dtype={\n",
    "    'ddl_case_id': str\n",
    "})"
   ]
  },
  {
   "cell_type": "code",
   "execution_count": 10,
   "id": "7e9fb564",
   "metadata": {},
   "outputs": [],
   "source": [
    "dfcases2015 = pd.read_csv('/Users/ashnadua/Desktop/PrecogTask/csv/cases/cases/cases_2015.csv', dtype={\n",
    "    'ddl_case_id': str\n",
    "})"
   ]
  },
  {
   "cell_type": "code",
   "execution_count": 11,
   "id": "2048218e",
   "metadata": {},
   "outputs": [],
   "source": [
    "dfcases2016 = pd.read_csv('/Users/ashnadua/Desktop/PrecogTask/csv/cases/cases/cases_2016.csv', dtype={\n",
    "    'ddl_case_id': str\n",
    "})"
   ]
  },
  {
   "cell_type": "code",
   "execution_count": 12,
   "id": "437bfd44",
   "metadata": {},
   "outputs": [],
   "source": [
    "dfcases2017 = pd.read_csv('/Users/ashnadua/Desktop/PrecogTask/csv/cases/cases/cases_2017.csv', dtype={\n",
    "    'ddl_case_id': str\n",
    "})"
   ]
  },
  {
   "cell_type": "code",
   "execution_count": 13,
   "id": "9e21dc89",
   "metadata": {},
   "outputs": [],
   "source": [
    "dfcases2018 = pd.read_csv('/Users/ashnadua/Desktop/PrecogTask/csv/cases/cases/cases_2018.csv', dtype={\n",
    "    'ddl_case_id': str\n",
    "})"
   ]
  },
  {
   "cell_type": "code",
   "execution_count": 14,
   "id": "5decc117",
   "metadata": {},
   "outputs": [],
   "source": [
    "dfcases2012 = pd.read_csv('/Users/ashnadua/Desktop/PrecogTask/csv/cases/cases/cases_2012.csv', dtype={\n",
    "    'ddl_case_id': str\n",
    "})"
   ]
  },
  {
   "cell_type": "code",
   "execution_count": 16,
   "id": "bd25210b",
   "metadata": {},
   "outputs": [],
   "source": [
    "dfDisp = pd.read_csv('/Users/ashnadua/Desktop/PrecogTask/csv/keys/keys/disp_name_key.csv')"
   ]
  },
  {
   "cell_type": "code",
   "execution_count": 18,
   "id": "8e8df2b1",
   "metadata": {},
   "outputs": [],
   "source": [
    "discpDict = dict(zip(dfDisp['disp_name'], dfDisp['disp_name_s']))"
   ]
  },
  {
   "cell_type": "code",
   "execution_count": 21,
   "id": "372e979a",
   "metadata": {},
   "outputs": [],
   "source": [
    "dfcases2010['disp'] = dfcases2010['disp_name'].map(discpDict)"
   ]
  },
  {
   "cell_type": "code",
   "execution_count": 23,
   "id": "eb84a180",
   "metadata": {},
   "outputs": [],
   "source": [
    "dfcases2011['disp'] = dfcases2011['disp_name'].map(discpDict)"
   ]
  },
  {
   "cell_type": "code",
   "execution_count": 24,
   "id": "a987b7d0",
   "metadata": {},
   "outputs": [],
   "source": [
    "dfcases2012['disp'] = dfcases2012['disp_name'].map(discpDict)"
   ]
  },
  {
   "cell_type": "code",
   "execution_count": 25,
   "id": "48207996",
   "metadata": {},
   "outputs": [],
   "source": [
    "dfcases2013['disp'] = dfcases2013['disp_name'].map(discpDict)"
   ]
  },
  {
   "cell_type": "code",
   "execution_count": 26,
   "id": "0017cd78",
   "metadata": {},
   "outputs": [],
   "source": [
    "dfcases2014['disp'] = dfcases2014['disp_name'].map(discpDict)"
   ]
  },
  {
   "cell_type": "code",
   "execution_count": 27,
   "id": "f6f686cd",
   "metadata": {},
   "outputs": [],
   "source": [
    "dfcases2015['disp'] = dfcases2015['disp_name'].map(discpDict)"
   ]
  },
  {
   "cell_type": "code",
   "execution_count": 28,
   "id": "af86a89d",
   "metadata": {},
   "outputs": [],
   "source": [
    "dfcases2016['disp'] = dfcases2016['disp_name'].map(discpDict)"
   ]
  },
  {
   "cell_type": "code",
   "execution_count": 29,
   "id": "97f88e95",
   "metadata": {},
   "outputs": [],
   "source": [
    "dfcases2017['disp'] = dfcases2017['disp_name'].map(discpDict)"
   ]
  },
  {
   "cell_type": "code",
   "execution_count": 30,
   "id": "1469659f",
   "metadata": {},
   "outputs": [],
   "source": [
    "dfcases2018['disp'] = dfcases2018['disp_name'].map(discpDict)"
   ]
  },
  {
   "cell_type": "code",
   "execution_count": 38,
   "id": "1d85aaed",
   "metadata": {},
   "outputs": [
    {
     "data": {
      "text/html": [
       "<div>\n",
       "<style scoped>\n",
       "    .dataframe tbody tr th:only-of-type {\n",
       "        vertical-align: middle;\n",
       "    }\n",
       "\n",
       "    .dataframe tbody tr th {\n",
       "        vertical-align: top;\n",
       "    }\n",
       "\n",
       "    .dataframe thead th {\n",
       "        text-align: right;\n",
       "    }\n",
       "</style>\n",
       "<table border=\"1\" class=\"dataframe\">\n",
       "  <thead>\n",
       "    <tr style=\"text-align: right;\">\n",
       "      <th></th>\n",
       "      <th>ddl_case_id</th>\n",
       "      <th>disp</th>\n",
       "    </tr>\n",
       "  </thead>\n",
       "  <tbody>\n",
       "    <tr>\n",
       "      <th>0</th>\n",
       "      <td>01-01-01-200308002162010</td>\n",
       "      <td>quash</td>\n",
       "    </tr>\n",
       "    <tr>\n",
       "      <th>1</th>\n",
       "      <td>01-01-01-200707000172010</td>\n",
       "      <td>quash</td>\n",
       "    </tr>\n",
       "    <tr>\n",
       "      <th>2</th>\n",
       "      <td>01-01-01-200707000182010</td>\n",
       "      <td>quash</td>\n",
       "    </tr>\n",
       "    <tr>\n",
       "      <th>3</th>\n",
       "      <td>01-01-01-200707000192010</td>\n",
       "      <td>quash</td>\n",
       "    </tr>\n",
       "    <tr>\n",
       "      <th>4</th>\n",
       "      <td>01-01-01-200707000202010</td>\n",
       "      <td>quash</td>\n",
       "    </tr>\n",
       "    <tr>\n",
       "      <th>...</th>\n",
       "      <td>...</td>\n",
       "      <td>...</td>\n",
       "    </tr>\n",
       "    <tr>\n",
       "      <th>4281322</th>\n",
       "      <td>32-01-01-211900000022010</td>\n",
       "      <td>fine</td>\n",
       "    </tr>\n",
       "    <tr>\n",
       "      <th>4281323</th>\n",
       "      <td>32-01-01-212400000102010</td>\n",
       "      <td>quash</td>\n",
       "    </tr>\n",
       "    <tr>\n",
       "      <th>4281324</th>\n",
       "      <td>32-01-01-212500000012010</td>\n",
       "      <td>quash</td>\n",
       "    </tr>\n",
       "    <tr>\n",
       "      <th>4281325</th>\n",
       "      <td>32-01-01-212600000012010</td>\n",
       "      <td>convicted</td>\n",
       "    </tr>\n",
       "    <tr>\n",
       "      <th>4281326</th>\n",
       "      <td>32-01-01-213000000802010</td>\n",
       "      <td>died</td>\n",
       "    </tr>\n",
       "  </tbody>\n",
       "</table>\n",
       "<p>4281327 rows × 2 columns</p>\n",
       "</div>"
      ],
      "text/plain": [
       "                      ddl_case_id       disp\n",
       "0        01-01-01-200308002162010      quash\n",
       "1        01-01-01-200707000172010      quash\n",
       "2        01-01-01-200707000182010      quash\n",
       "3        01-01-01-200707000192010      quash\n",
       "4        01-01-01-200707000202010      quash\n",
       "...                           ...        ...\n",
       "4281322  32-01-01-211900000022010       fine\n",
       "4281323  32-01-01-212400000102010      quash\n",
       "4281324  32-01-01-212500000012010      quash\n",
       "4281325  32-01-01-212600000012010  convicted\n",
       "4281326  32-01-01-213000000802010       died\n",
       "\n",
       "[4281327 rows x 2 columns]"
      ]
     },
     "execution_count": 38,
     "metadata": {},
     "output_type": "execute_result"
    }
   ],
   "source": [
    "dfcases2010"
   ]
  },
  {
   "cell_type": "code",
   "execution_count": 61,
   "id": "2240a872",
   "metadata": {},
   "outputs": [],
   "source": [
    "# dfcases2010 = dfcases2010.drop(['year', 'state_code', 'dist_code', 'court_no', 'cino', 'judge_position', 'female_defendant', 'female_petitioner', 'female_adv_def', 'female_adv_pet', 'type_name', 'purpose_name', 'disp_name', 'date_of_filing', 'date_of_decision', 'date_first_list', 'date_last_list', 'date_next_list'], axis=1)\n",
    "\n",
    "dfcases2011 = dfcases2011.drop(['year', 'state_code', 'dist_code', 'court_no', 'cino', 'judge_position', 'female_defendant', 'female_petitioner', 'female_adv_def', 'female_adv_pet', 'type_name', 'purpose_name', 'disp_name', 'date_of_filing', 'date_of_decision', 'date_first_list', 'date_last_list', 'date_next_list'], axis=1)\n",
    "dfcases2012 = dfcases2012.drop(['year', 'state_code', 'dist_code', 'court_no', 'cino', 'judge_position', 'female_defendant', 'female_petitioner', 'female_adv_def', 'female_adv_pet', 'type_name', 'purpose_name', 'disp_name', 'date_of_filing', 'date_of_decision', 'date_first_list', 'date_last_list', 'date_next_list'], axis=1)\n",
    "dfcases2013 = dfcases2013.drop(['year', 'state_code', 'dist_code', 'court_no', 'cino', 'judge_position', 'female_defendant', 'female_petitioner', 'female_adv_def', 'female_adv_pet', 'type_name', 'purpose_name', 'disp_name', 'date_of_filing', 'date_of_decision', 'date_first_list', 'date_last_list', 'date_next_list'], axis=1)\n",
    "dfcases2014 = dfcases2014.drop(['year', 'state_code', 'dist_code', 'court_no', 'cino', 'judge_position', 'female_defendant', 'female_petitioner', 'female_adv_def', 'female_adv_pet', 'type_name', 'purpose_name', 'disp_name', 'date_of_filing', 'date_of_decision', 'date_first_list', 'date_last_list', 'date_next_list'], axis=1)\n",
    "dfcases2015 = dfcases2015.drop(['year', 'state_code', 'dist_code', 'court_no', 'cino', 'judge_position', 'female_defendant', 'female_petitioner', 'female_adv_def', 'female_adv_pet', 'type_name', 'purpose_name', 'disp_name', 'date_of_filing', 'date_of_decision', 'date_first_list', 'date_last_list', 'date_next_list'], axis=1)\n",
    "dfcases2016 = dfcases2016.drop(['year', 'state_code', 'dist_code', 'court_no', 'cino', 'judge_position', 'female_defendant', 'female_petitioner', 'female_adv_def', 'female_adv_pet', 'type_name', 'purpose_name', 'disp_name', 'date_of_filing', 'date_of_decision', 'date_first_list', 'date_last_list', 'date_next_list'], axis=1)\n",
    "dfcases2017 = dfcases2017.drop(['year', 'state_code', 'dist_code', 'court_no', 'cino', 'judge_position', 'female_defendant', 'female_petitioner', 'female_adv_def', 'female_adv_pet', 'type_name', 'purpose_name', 'disp_name', 'date_of_filing', 'date_of_decision', 'date_first_list', 'date_last_list', 'date_next_list'], axis=1)\n",
    "dfcases2018 = dfcases2018.drop(['year', 'state_code', 'dist_code', 'court_no', 'cino', 'judge_position', 'female_defendant', 'female_petitioner', 'female_adv_def', 'female_adv_pet', 'type_name', 'purpose_name', 'disp_name', 'date_of_filing', 'date_of_decision', 'date_first_list', 'date_last_list', 'date_next_list'], axis=1)"
   ]
  },
  {
   "cell_type": "code",
   "execution_count": 95,
   "id": "c2ef8d83",
   "metadata": {},
   "outputs": [],
   "source": [
    "count2010 = dfcases2010.disp.value_counts().to_frame()\n",
    "\n",
    "count2011 = dfcases2011.disp.value_counts().to_frame()\n",
    "count2012 = dfcases2012.disp.value_counts().to_frame()\n",
    "count2013 = dfcases2013.disp.value_counts().to_frame()\n",
    "count2014 = dfcases2014.disp.value_counts().to_frame()\n",
    "count2015 = dfcases2015.disp.value_counts().to_frame()\n",
    "count2016 = dfcases2016.disp.value_counts().to_frame()\n",
    "count2017 = dfcases2017.disp.value_counts().to_frame()\n",
    "count2018 = dfcases2018.disp.value_counts().to_frame()"
   ]
  },
  {
   "cell_type": "code",
   "execution_count": 96,
   "id": "d9a1394f",
   "metadata": {},
   "outputs": [],
   "source": [
    "count2010 = count2010.reset_index()\n",
    "\n",
    "count2011 = count2011.reset_index()\n",
    "count2012 = count2012.reset_index()\n",
    "count2013 = count2013.reset_index()\n",
    "count2014 = count2014.reset_index()\n",
    "count2015 = count2015.reset_index()\n",
    "count2016 = count2016.reset_index()\n",
    "count2017 = count2017.reset_index()\n",
    "count2018 = count2018.reset_index()"
   ]
  },
  {
   "cell_type": "code",
   "execution_count": 97,
   "id": "87385137",
   "metadata": {},
   "outputs": [],
   "source": [
    "count2010.rename(columns = {'index':'Disposition', 'disp': 'Count'}, inplace = True)\n",
    "\n",
    "count2011.rename(columns = {'index':'Disposition', 'disp': 'Count'}, inplace = True)\n",
    "count2012.rename(columns = {'index':'Disposition', 'disp': 'Count'}, inplace = True)\n",
    "count2013.rename(columns = {'index':'Disposition', 'disp': 'Count'}, inplace = True)\n",
    "count2014.rename(columns = {'index':'Disposition', 'disp': 'Count'}, inplace = True)\n",
    "count2015.rename(columns = {'index':'Disposition', 'disp': 'Count'}, inplace = True)\n",
    "count2016.rename(columns = {'index':'Disposition', 'disp': 'Count'}, inplace = True)\n",
    "count2017.rename(columns = {'index':'Disposition', 'disp': 'Count'}, inplace = True)\n",
    "count2018.rename(columns = {'index':'Disposition', 'disp': 'Count'}, inplace = True)"
   ]
  },
  {
   "cell_type": "code",
   "execution_count": 98,
   "id": "d5c99c06",
   "metadata": {},
   "outputs": [
    {
     "data": {
      "application/vnd.plotly.v1+json": {
       "config": {
        "plotlyServerURL": "https://plot.ly"
       },
       "data": [
        {
         "alignmentgroup": "True",
         "hovertemplate": "Disposition=%{x}<br>Count=%{y}<extra></extra>",
         "legendgroup": "",
         "marker": {
          "color": "#636efa",
          "pattern": {
           "shape": ""
          }
         },
         "name": "",
         "offsetgroup": "",
         "orientation": "v",
         "showlegend": false,
         "textposition": "auto",
         "type": "bar",
         "x": [
          "disposed-otherwise",
          "died",
          "acquitted",
          "fine",
          "disposal in lok adalat",
          "disposed",
          "allowed",
          "stayed",
          "not press",
          "converted",
          "quash",
          "untrace",
          "compounded",
          "cancelled",
          "referred to lok adalat",
          "other",
          "execution",
          "convicted",
          "award",
          "dismissed",
          "plea bargaining",
          "abated",
          "contest-allowed",
          "closed",
          "absconded",
          "258 crpc",
          "disposition var missing",
          "remanded",
          "uncontested",
          "compromise",
          "probation",
          "prison",
          "p.o. consign",
          "settled",
          "partly decreed",
          "committed",
          "procedural",
          "judgement",
          "otherwise",
          "reject",
          "decided",
          "confession",
          "appeal accepted",
          "bail granted",
          "transferred",
          "plead guilty",
          "bail rejected",
          "sine die",
          "ex-parte",
          "bail order",
          "bail refused"
         ],
         "xaxis": "x",
         "y": [
          613527,
          540748,
          406015,
          353931,
          269861,
          261305,
          244023,
          214163,
          207716,
          145668,
          145648,
          140496,
          124493,
          79826,
          75158,
          70869,
          61137,
          50118,
          31399,
          31046,
          24872,
          22021,
          19007,
          18426,
          16773,
          15765,
          14818,
          12701,
          10379,
          10189,
          10184,
          8293,
          6161,
          5103,
          5018,
          2373,
          1991,
          1866,
          1489,
          1478,
          1443,
          911,
          670,
          553,
          385,
          362,
          338,
          328,
          167,
          110,
          6
         ],
         "yaxis": "y"
        }
       ],
       "layout": {
        "barmode": "relative",
        "legend": {
         "tracegroupgap": 0
        },
        "margin": {
         "t": 60
        },
        "template": {
         "data": {
          "bar": [
           {
            "error_x": {
             "color": "#2a3f5f"
            },
            "error_y": {
             "color": "#2a3f5f"
            },
            "marker": {
             "line": {
              "color": "#E5ECF6",
              "width": 0.5
             },
             "pattern": {
              "fillmode": "overlay",
              "size": 10,
              "solidity": 0.2
             }
            },
            "type": "bar"
           }
          ],
          "barpolar": [
           {
            "marker": {
             "line": {
              "color": "#E5ECF6",
              "width": 0.5
             },
             "pattern": {
              "fillmode": "overlay",
              "size": 10,
              "solidity": 0.2
             }
            },
            "type": "barpolar"
           }
          ],
          "carpet": [
           {
            "aaxis": {
             "endlinecolor": "#2a3f5f",
             "gridcolor": "white",
             "linecolor": "white",
             "minorgridcolor": "white",
             "startlinecolor": "#2a3f5f"
            },
            "baxis": {
             "endlinecolor": "#2a3f5f",
             "gridcolor": "white",
             "linecolor": "white",
             "minorgridcolor": "white",
             "startlinecolor": "#2a3f5f"
            },
            "type": "carpet"
           }
          ],
          "choropleth": [
           {
            "colorbar": {
             "outlinewidth": 0,
             "ticks": ""
            },
            "type": "choropleth"
           }
          ],
          "contour": [
           {
            "colorbar": {
             "outlinewidth": 0,
             "ticks": ""
            },
            "colorscale": [
             [
              0,
              "#0d0887"
             ],
             [
              0.1111111111111111,
              "#46039f"
             ],
             [
              0.2222222222222222,
              "#7201a8"
             ],
             [
              0.3333333333333333,
              "#9c179e"
             ],
             [
              0.4444444444444444,
              "#bd3786"
             ],
             [
              0.5555555555555556,
              "#d8576b"
             ],
             [
              0.6666666666666666,
              "#ed7953"
             ],
             [
              0.7777777777777778,
              "#fb9f3a"
             ],
             [
              0.8888888888888888,
              "#fdca26"
             ],
             [
              1,
              "#f0f921"
             ]
            ],
            "type": "contour"
           }
          ],
          "contourcarpet": [
           {
            "colorbar": {
             "outlinewidth": 0,
             "ticks": ""
            },
            "type": "contourcarpet"
           }
          ],
          "heatmap": [
           {
            "colorbar": {
             "outlinewidth": 0,
             "ticks": ""
            },
            "colorscale": [
             [
              0,
              "#0d0887"
             ],
             [
              0.1111111111111111,
              "#46039f"
             ],
             [
              0.2222222222222222,
              "#7201a8"
             ],
             [
              0.3333333333333333,
              "#9c179e"
             ],
             [
              0.4444444444444444,
              "#bd3786"
             ],
             [
              0.5555555555555556,
              "#d8576b"
             ],
             [
              0.6666666666666666,
              "#ed7953"
             ],
             [
              0.7777777777777778,
              "#fb9f3a"
             ],
             [
              0.8888888888888888,
              "#fdca26"
             ],
             [
              1,
              "#f0f921"
             ]
            ],
            "type": "heatmap"
           }
          ],
          "heatmapgl": [
           {
            "colorbar": {
             "outlinewidth": 0,
             "ticks": ""
            },
            "colorscale": [
             [
              0,
              "#0d0887"
             ],
             [
              0.1111111111111111,
              "#46039f"
             ],
             [
              0.2222222222222222,
              "#7201a8"
             ],
             [
              0.3333333333333333,
              "#9c179e"
             ],
             [
              0.4444444444444444,
              "#bd3786"
             ],
             [
              0.5555555555555556,
              "#d8576b"
             ],
             [
              0.6666666666666666,
              "#ed7953"
             ],
             [
              0.7777777777777778,
              "#fb9f3a"
             ],
             [
              0.8888888888888888,
              "#fdca26"
             ],
             [
              1,
              "#f0f921"
             ]
            ],
            "type": "heatmapgl"
           }
          ],
          "histogram": [
           {
            "marker": {
             "pattern": {
              "fillmode": "overlay",
              "size": 10,
              "solidity": 0.2
             }
            },
            "type": "histogram"
           }
          ],
          "histogram2d": [
           {
            "colorbar": {
             "outlinewidth": 0,
             "ticks": ""
            },
            "colorscale": [
             [
              0,
              "#0d0887"
             ],
             [
              0.1111111111111111,
              "#46039f"
             ],
             [
              0.2222222222222222,
              "#7201a8"
             ],
             [
              0.3333333333333333,
              "#9c179e"
             ],
             [
              0.4444444444444444,
              "#bd3786"
             ],
             [
              0.5555555555555556,
              "#d8576b"
             ],
             [
              0.6666666666666666,
              "#ed7953"
             ],
             [
              0.7777777777777778,
              "#fb9f3a"
             ],
             [
              0.8888888888888888,
              "#fdca26"
             ],
             [
              1,
              "#f0f921"
             ]
            ],
            "type": "histogram2d"
           }
          ],
          "histogram2dcontour": [
           {
            "colorbar": {
             "outlinewidth": 0,
             "ticks": ""
            },
            "colorscale": [
             [
              0,
              "#0d0887"
             ],
             [
              0.1111111111111111,
              "#46039f"
             ],
             [
              0.2222222222222222,
              "#7201a8"
             ],
             [
              0.3333333333333333,
              "#9c179e"
             ],
             [
              0.4444444444444444,
              "#bd3786"
             ],
             [
              0.5555555555555556,
              "#d8576b"
             ],
             [
              0.6666666666666666,
              "#ed7953"
             ],
             [
              0.7777777777777778,
              "#fb9f3a"
             ],
             [
              0.8888888888888888,
              "#fdca26"
             ],
             [
              1,
              "#f0f921"
             ]
            ],
            "type": "histogram2dcontour"
           }
          ],
          "mesh3d": [
           {
            "colorbar": {
             "outlinewidth": 0,
             "ticks": ""
            },
            "type": "mesh3d"
           }
          ],
          "parcoords": [
           {
            "line": {
             "colorbar": {
              "outlinewidth": 0,
              "ticks": ""
             }
            },
            "type": "parcoords"
           }
          ],
          "pie": [
           {
            "automargin": true,
            "type": "pie"
           }
          ],
          "scatter": [
           {
            "fillpattern": {
             "fillmode": "overlay",
             "size": 10,
             "solidity": 0.2
            },
            "type": "scatter"
           }
          ],
          "scatter3d": [
           {
            "line": {
             "colorbar": {
              "outlinewidth": 0,
              "ticks": ""
             }
            },
            "marker": {
             "colorbar": {
              "outlinewidth": 0,
              "ticks": ""
             }
            },
            "type": "scatter3d"
           }
          ],
          "scattercarpet": [
           {
            "marker": {
             "colorbar": {
              "outlinewidth": 0,
              "ticks": ""
             }
            },
            "type": "scattercarpet"
           }
          ],
          "scattergeo": [
           {
            "marker": {
             "colorbar": {
              "outlinewidth": 0,
              "ticks": ""
             }
            },
            "type": "scattergeo"
           }
          ],
          "scattergl": [
           {
            "marker": {
             "colorbar": {
              "outlinewidth": 0,
              "ticks": ""
             }
            },
            "type": "scattergl"
           }
          ],
          "scattermapbox": [
           {
            "marker": {
             "colorbar": {
              "outlinewidth": 0,
              "ticks": ""
             }
            },
            "type": "scattermapbox"
           }
          ],
          "scatterpolar": [
           {
            "marker": {
             "colorbar": {
              "outlinewidth": 0,
              "ticks": ""
             }
            },
            "type": "scatterpolar"
           }
          ],
          "scatterpolargl": [
           {
            "marker": {
             "colorbar": {
              "outlinewidth": 0,
              "ticks": ""
             }
            },
            "type": "scatterpolargl"
           }
          ],
          "scatterternary": [
           {
            "marker": {
             "colorbar": {
              "outlinewidth": 0,
              "ticks": ""
             }
            },
            "type": "scatterternary"
           }
          ],
          "surface": [
           {
            "colorbar": {
             "outlinewidth": 0,
             "ticks": ""
            },
            "colorscale": [
             [
              0,
              "#0d0887"
             ],
             [
              0.1111111111111111,
              "#46039f"
             ],
             [
              0.2222222222222222,
              "#7201a8"
             ],
             [
              0.3333333333333333,
              "#9c179e"
             ],
             [
              0.4444444444444444,
              "#bd3786"
             ],
             [
              0.5555555555555556,
              "#d8576b"
             ],
             [
              0.6666666666666666,
              "#ed7953"
             ],
             [
              0.7777777777777778,
              "#fb9f3a"
             ],
             [
              0.8888888888888888,
              "#fdca26"
             ],
             [
              1,
              "#f0f921"
             ]
            ],
            "type": "surface"
           }
          ],
          "table": [
           {
            "cells": {
             "fill": {
              "color": "#EBF0F8"
             },
             "line": {
              "color": "white"
             }
            },
            "header": {
             "fill": {
              "color": "#C8D4E3"
             },
             "line": {
              "color": "white"
             }
            },
            "type": "table"
           }
          ]
         },
         "layout": {
          "annotationdefaults": {
           "arrowcolor": "#2a3f5f",
           "arrowhead": 0,
           "arrowwidth": 1
          },
          "autotypenumbers": "strict",
          "coloraxis": {
           "colorbar": {
            "outlinewidth": 0,
            "ticks": ""
           }
          },
          "colorscale": {
           "diverging": [
            [
             0,
             "#8e0152"
            ],
            [
             0.1,
             "#c51b7d"
            ],
            [
             0.2,
             "#de77ae"
            ],
            [
             0.3,
             "#f1b6da"
            ],
            [
             0.4,
             "#fde0ef"
            ],
            [
             0.5,
             "#f7f7f7"
            ],
            [
             0.6,
             "#e6f5d0"
            ],
            [
             0.7,
             "#b8e186"
            ],
            [
             0.8,
             "#7fbc41"
            ],
            [
             0.9,
             "#4d9221"
            ],
            [
             1,
             "#276419"
            ]
           ],
           "sequential": [
            [
             0,
             "#0d0887"
            ],
            [
             0.1111111111111111,
             "#46039f"
            ],
            [
             0.2222222222222222,
             "#7201a8"
            ],
            [
             0.3333333333333333,
             "#9c179e"
            ],
            [
             0.4444444444444444,
             "#bd3786"
            ],
            [
             0.5555555555555556,
             "#d8576b"
            ],
            [
             0.6666666666666666,
             "#ed7953"
            ],
            [
             0.7777777777777778,
             "#fb9f3a"
            ],
            [
             0.8888888888888888,
             "#fdca26"
            ],
            [
             1,
             "#f0f921"
            ]
           ],
           "sequentialminus": [
            [
             0,
             "#0d0887"
            ],
            [
             0.1111111111111111,
             "#46039f"
            ],
            [
             0.2222222222222222,
             "#7201a8"
            ],
            [
             0.3333333333333333,
             "#9c179e"
            ],
            [
             0.4444444444444444,
             "#bd3786"
            ],
            [
             0.5555555555555556,
             "#d8576b"
            ],
            [
             0.6666666666666666,
             "#ed7953"
            ],
            [
             0.7777777777777778,
             "#fb9f3a"
            ],
            [
             0.8888888888888888,
             "#fdca26"
            ],
            [
             1,
             "#f0f921"
            ]
           ]
          },
          "colorway": [
           "#636efa",
           "#EF553B",
           "#00cc96",
           "#ab63fa",
           "#FFA15A",
           "#19d3f3",
           "#FF6692",
           "#B6E880",
           "#FF97FF",
           "#FECB52"
          ],
          "font": {
           "color": "#2a3f5f"
          },
          "geo": {
           "bgcolor": "white",
           "lakecolor": "white",
           "landcolor": "#E5ECF6",
           "showlakes": true,
           "showland": true,
           "subunitcolor": "white"
          },
          "hoverlabel": {
           "align": "left"
          },
          "hovermode": "closest",
          "mapbox": {
           "style": "light"
          },
          "paper_bgcolor": "white",
          "plot_bgcolor": "#E5ECF6",
          "polar": {
           "angularaxis": {
            "gridcolor": "white",
            "linecolor": "white",
            "ticks": ""
           },
           "bgcolor": "#E5ECF6",
           "radialaxis": {
            "gridcolor": "white",
            "linecolor": "white",
            "ticks": ""
           }
          },
          "scene": {
           "xaxis": {
            "backgroundcolor": "#E5ECF6",
            "gridcolor": "white",
            "gridwidth": 2,
            "linecolor": "white",
            "showbackground": true,
            "ticks": "",
            "zerolinecolor": "white"
           },
           "yaxis": {
            "backgroundcolor": "#E5ECF6",
            "gridcolor": "white",
            "gridwidth": 2,
            "linecolor": "white",
            "showbackground": true,
            "ticks": "",
            "zerolinecolor": "white"
           },
           "zaxis": {
            "backgroundcolor": "#E5ECF6",
            "gridcolor": "white",
            "gridwidth": 2,
            "linecolor": "white",
            "showbackground": true,
            "ticks": "",
            "zerolinecolor": "white"
           }
          },
          "shapedefaults": {
           "line": {
            "color": "#2a3f5f"
           }
          },
          "ternary": {
           "aaxis": {
            "gridcolor": "white",
            "linecolor": "white",
            "ticks": ""
           },
           "baxis": {
            "gridcolor": "white",
            "linecolor": "white",
            "ticks": ""
           },
           "bgcolor": "#E5ECF6",
           "caxis": {
            "gridcolor": "white",
            "linecolor": "white",
            "ticks": ""
           }
          },
          "title": {
           "x": 0.05
          },
          "xaxis": {
           "automargin": true,
           "gridcolor": "white",
           "linecolor": "white",
           "ticks": "",
           "title": {
            "standoff": 15
           },
           "zerolinecolor": "white",
           "zerolinewidth": 2
          },
          "yaxis": {
           "automargin": true,
           "gridcolor": "white",
           "linecolor": "white",
           "ticks": "",
           "title": {
            "standoff": 15
           },
           "zerolinecolor": "white",
           "zerolinewidth": 2
          }
         }
        },
        "title": {
         "text": "Disposition 2010",
         "x": 0.5
        },
        "xaxis": {
         "anchor": "y",
         "domain": [
          0,
          1
         ],
         "title": {
          "text": "Disposition"
         }
        },
        "yaxis": {
         "anchor": "x",
         "domain": [
          0,
          1
         ],
         "title": {
          "text": "Count"
         }
        }
       }
      },
      "text/html": [
       "<div>                            <div id=\"2313c6ca-4326-4cae-b2b0-923895dedca1\" class=\"plotly-graph-div\" style=\"height:525px; width:100%;\"></div>            <script type=\"text/javascript\">                require([\"plotly\"], function(Plotly) {                    window.PLOTLYENV=window.PLOTLYENV || {};                                    if (document.getElementById(\"2313c6ca-4326-4cae-b2b0-923895dedca1\")) {                    Plotly.newPlot(                        \"2313c6ca-4326-4cae-b2b0-923895dedca1\",                        [{\"alignmentgroup\":\"True\",\"hovertemplate\":\"Disposition=%{x}<br>Count=%{y}<extra></extra>\",\"legendgroup\":\"\",\"marker\":{\"color\":\"#636efa\",\"pattern\":{\"shape\":\"\"}},\"name\":\"\",\"offsetgroup\":\"\",\"orientation\":\"v\",\"showlegend\":false,\"textposition\":\"auto\",\"x\":[\"disposed-otherwise\",\"died\",\"acquitted\",\"fine\",\"disposal in lok adalat\",\"disposed\",\"allowed\",\"stayed\",\"not press\",\"converted\",\"quash\",\"untrace\",\"compounded\",\"cancelled\",\"referred to lok adalat\",\"other\",\"execution\",\"convicted\",\"award\",\"dismissed\",\"plea bargaining\",\"abated\",\"contest-allowed\",\"closed\",\"absconded\",\"258 crpc\",\"disposition var missing\",\"remanded\",\"uncontested\",\"compromise\",\"probation\",\"prison\",\"p.o. consign\",\"settled\",\"partly decreed\",\"committed\",\"procedural\",\"judgement\",\"otherwise\",\"reject\",\"decided\",\"confession\",\"appeal accepted\",\"bail granted\",\"transferred\",\"plead guilty\",\"bail rejected\",\"sine die\",\"ex-parte\",\"bail order\",\"bail refused\"],\"xaxis\":\"x\",\"y\":[613527,540748,406015,353931,269861,261305,244023,214163,207716,145668,145648,140496,124493,79826,75158,70869,61137,50118,31399,31046,24872,22021,19007,18426,16773,15765,14818,12701,10379,10189,10184,8293,6161,5103,5018,2373,1991,1866,1489,1478,1443,911,670,553,385,362,338,328,167,110,6],\"yaxis\":\"y\",\"type\":\"bar\"}],                        {\"template\":{\"data\":{\"histogram2dcontour\":[{\"type\":\"histogram2dcontour\",\"colorbar\":{\"outlinewidth\":0,\"ticks\":\"\"},\"colorscale\":[[0.0,\"#0d0887\"],[0.1111111111111111,\"#46039f\"],[0.2222222222222222,\"#7201a8\"],[0.3333333333333333,\"#9c179e\"],[0.4444444444444444,\"#bd3786\"],[0.5555555555555556,\"#d8576b\"],[0.6666666666666666,\"#ed7953\"],[0.7777777777777778,\"#fb9f3a\"],[0.8888888888888888,\"#fdca26\"],[1.0,\"#f0f921\"]]}],\"choropleth\":[{\"type\":\"choropleth\",\"colorbar\":{\"outlinewidth\":0,\"ticks\":\"\"}}],\"histogram2d\":[{\"type\":\"histogram2d\",\"colorbar\":{\"outlinewidth\":0,\"ticks\":\"\"},\"colorscale\":[[0.0,\"#0d0887\"],[0.1111111111111111,\"#46039f\"],[0.2222222222222222,\"#7201a8\"],[0.3333333333333333,\"#9c179e\"],[0.4444444444444444,\"#bd3786\"],[0.5555555555555556,\"#d8576b\"],[0.6666666666666666,\"#ed7953\"],[0.7777777777777778,\"#fb9f3a\"],[0.8888888888888888,\"#fdca26\"],[1.0,\"#f0f921\"]]}],\"heatmap\":[{\"type\":\"heatmap\",\"colorbar\":{\"outlinewidth\":0,\"ticks\":\"\"},\"colorscale\":[[0.0,\"#0d0887\"],[0.1111111111111111,\"#46039f\"],[0.2222222222222222,\"#7201a8\"],[0.3333333333333333,\"#9c179e\"],[0.4444444444444444,\"#bd3786\"],[0.5555555555555556,\"#d8576b\"],[0.6666666666666666,\"#ed7953\"],[0.7777777777777778,\"#fb9f3a\"],[0.8888888888888888,\"#fdca26\"],[1.0,\"#f0f921\"]]}],\"heatmapgl\":[{\"type\":\"heatmapgl\",\"colorbar\":{\"outlinewidth\":0,\"ticks\":\"\"},\"colorscale\":[[0.0,\"#0d0887\"],[0.1111111111111111,\"#46039f\"],[0.2222222222222222,\"#7201a8\"],[0.3333333333333333,\"#9c179e\"],[0.4444444444444444,\"#bd3786\"],[0.5555555555555556,\"#d8576b\"],[0.6666666666666666,\"#ed7953\"],[0.7777777777777778,\"#fb9f3a\"],[0.8888888888888888,\"#fdca26\"],[1.0,\"#f0f921\"]]}],\"contourcarpet\":[{\"type\":\"contourcarpet\",\"colorbar\":{\"outlinewidth\":0,\"ticks\":\"\"}}],\"contour\":[{\"type\":\"contour\",\"colorbar\":{\"outlinewidth\":0,\"ticks\":\"\"},\"colorscale\":[[0.0,\"#0d0887\"],[0.1111111111111111,\"#46039f\"],[0.2222222222222222,\"#7201a8\"],[0.3333333333333333,\"#9c179e\"],[0.4444444444444444,\"#bd3786\"],[0.5555555555555556,\"#d8576b\"],[0.6666666666666666,\"#ed7953\"],[0.7777777777777778,\"#fb9f3a\"],[0.8888888888888888,\"#fdca26\"],[1.0,\"#f0f921\"]]}],\"surface\":[{\"type\":\"surface\",\"colorbar\":{\"outlinewidth\":0,\"ticks\":\"\"},\"colorscale\":[[0.0,\"#0d0887\"],[0.1111111111111111,\"#46039f\"],[0.2222222222222222,\"#7201a8\"],[0.3333333333333333,\"#9c179e\"],[0.4444444444444444,\"#bd3786\"],[0.5555555555555556,\"#d8576b\"],[0.6666666666666666,\"#ed7953\"],[0.7777777777777778,\"#fb9f3a\"],[0.8888888888888888,\"#fdca26\"],[1.0,\"#f0f921\"]]}],\"mesh3d\":[{\"type\":\"mesh3d\",\"colorbar\":{\"outlinewidth\":0,\"ticks\":\"\"}}],\"scatter\":[{\"fillpattern\":{\"fillmode\":\"overlay\",\"size\":10,\"solidity\":0.2},\"type\":\"scatter\"}],\"parcoords\":[{\"type\":\"parcoords\",\"line\":{\"colorbar\":{\"outlinewidth\":0,\"ticks\":\"\"}}}],\"scatterpolargl\":[{\"type\":\"scatterpolargl\",\"marker\":{\"colorbar\":{\"outlinewidth\":0,\"ticks\":\"\"}}}],\"bar\":[{\"error_x\":{\"color\":\"#2a3f5f\"},\"error_y\":{\"color\":\"#2a3f5f\"},\"marker\":{\"line\":{\"color\":\"#E5ECF6\",\"width\":0.5},\"pattern\":{\"fillmode\":\"overlay\",\"size\":10,\"solidity\":0.2}},\"type\":\"bar\"}],\"scattergeo\":[{\"type\":\"scattergeo\",\"marker\":{\"colorbar\":{\"outlinewidth\":0,\"ticks\":\"\"}}}],\"scatterpolar\":[{\"type\":\"scatterpolar\",\"marker\":{\"colorbar\":{\"outlinewidth\":0,\"ticks\":\"\"}}}],\"histogram\":[{\"marker\":{\"pattern\":{\"fillmode\":\"overlay\",\"size\":10,\"solidity\":0.2}},\"type\":\"histogram\"}],\"scattergl\":[{\"type\":\"scattergl\",\"marker\":{\"colorbar\":{\"outlinewidth\":0,\"ticks\":\"\"}}}],\"scatter3d\":[{\"type\":\"scatter3d\",\"line\":{\"colorbar\":{\"outlinewidth\":0,\"ticks\":\"\"}},\"marker\":{\"colorbar\":{\"outlinewidth\":0,\"ticks\":\"\"}}}],\"scattermapbox\":[{\"type\":\"scattermapbox\",\"marker\":{\"colorbar\":{\"outlinewidth\":0,\"ticks\":\"\"}}}],\"scatterternary\":[{\"type\":\"scatterternary\",\"marker\":{\"colorbar\":{\"outlinewidth\":0,\"ticks\":\"\"}}}],\"scattercarpet\":[{\"type\":\"scattercarpet\",\"marker\":{\"colorbar\":{\"outlinewidth\":0,\"ticks\":\"\"}}}],\"carpet\":[{\"aaxis\":{\"endlinecolor\":\"#2a3f5f\",\"gridcolor\":\"white\",\"linecolor\":\"white\",\"minorgridcolor\":\"white\",\"startlinecolor\":\"#2a3f5f\"},\"baxis\":{\"endlinecolor\":\"#2a3f5f\",\"gridcolor\":\"white\",\"linecolor\":\"white\",\"minorgridcolor\":\"white\",\"startlinecolor\":\"#2a3f5f\"},\"type\":\"carpet\"}],\"table\":[{\"cells\":{\"fill\":{\"color\":\"#EBF0F8\"},\"line\":{\"color\":\"white\"}},\"header\":{\"fill\":{\"color\":\"#C8D4E3\"},\"line\":{\"color\":\"white\"}},\"type\":\"table\"}],\"barpolar\":[{\"marker\":{\"line\":{\"color\":\"#E5ECF6\",\"width\":0.5},\"pattern\":{\"fillmode\":\"overlay\",\"size\":10,\"solidity\":0.2}},\"type\":\"barpolar\"}],\"pie\":[{\"automargin\":true,\"type\":\"pie\"}]},\"layout\":{\"autotypenumbers\":\"strict\",\"colorway\":[\"#636efa\",\"#EF553B\",\"#00cc96\",\"#ab63fa\",\"#FFA15A\",\"#19d3f3\",\"#FF6692\",\"#B6E880\",\"#FF97FF\",\"#FECB52\"],\"font\":{\"color\":\"#2a3f5f\"},\"hovermode\":\"closest\",\"hoverlabel\":{\"align\":\"left\"},\"paper_bgcolor\":\"white\",\"plot_bgcolor\":\"#E5ECF6\",\"polar\":{\"bgcolor\":\"#E5ECF6\",\"angularaxis\":{\"gridcolor\":\"white\",\"linecolor\":\"white\",\"ticks\":\"\"},\"radialaxis\":{\"gridcolor\":\"white\",\"linecolor\":\"white\",\"ticks\":\"\"}},\"ternary\":{\"bgcolor\":\"#E5ECF6\",\"aaxis\":{\"gridcolor\":\"white\",\"linecolor\":\"white\",\"ticks\":\"\"},\"baxis\":{\"gridcolor\":\"white\",\"linecolor\":\"white\",\"ticks\":\"\"},\"caxis\":{\"gridcolor\":\"white\",\"linecolor\":\"white\",\"ticks\":\"\"}},\"coloraxis\":{\"colorbar\":{\"outlinewidth\":0,\"ticks\":\"\"}},\"colorscale\":{\"sequential\":[[0.0,\"#0d0887\"],[0.1111111111111111,\"#46039f\"],[0.2222222222222222,\"#7201a8\"],[0.3333333333333333,\"#9c179e\"],[0.4444444444444444,\"#bd3786\"],[0.5555555555555556,\"#d8576b\"],[0.6666666666666666,\"#ed7953\"],[0.7777777777777778,\"#fb9f3a\"],[0.8888888888888888,\"#fdca26\"],[1.0,\"#f0f921\"]],\"sequentialminus\":[[0.0,\"#0d0887\"],[0.1111111111111111,\"#46039f\"],[0.2222222222222222,\"#7201a8\"],[0.3333333333333333,\"#9c179e\"],[0.4444444444444444,\"#bd3786\"],[0.5555555555555556,\"#d8576b\"],[0.6666666666666666,\"#ed7953\"],[0.7777777777777778,\"#fb9f3a\"],[0.8888888888888888,\"#fdca26\"],[1.0,\"#f0f921\"]],\"diverging\":[[0,\"#8e0152\"],[0.1,\"#c51b7d\"],[0.2,\"#de77ae\"],[0.3,\"#f1b6da\"],[0.4,\"#fde0ef\"],[0.5,\"#f7f7f7\"],[0.6,\"#e6f5d0\"],[0.7,\"#b8e186\"],[0.8,\"#7fbc41\"],[0.9,\"#4d9221\"],[1,\"#276419\"]]},\"xaxis\":{\"gridcolor\":\"white\",\"linecolor\":\"white\",\"ticks\":\"\",\"title\":{\"standoff\":15},\"zerolinecolor\":\"white\",\"automargin\":true,\"zerolinewidth\":2},\"yaxis\":{\"gridcolor\":\"white\",\"linecolor\":\"white\",\"ticks\":\"\",\"title\":{\"standoff\":15},\"zerolinecolor\":\"white\",\"automargin\":true,\"zerolinewidth\":2},\"scene\":{\"xaxis\":{\"backgroundcolor\":\"#E5ECF6\",\"gridcolor\":\"white\",\"linecolor\":\"white\",\"showbackground\":true,\"ticks\":\"\",\"zerolinecolor\":\"white\",\"gridwidth\":2},\"yaxis\":{\"backgroundcolor\":\"#E5ECF6\",\"gridcolor\":\"white\",\"linecolor\":\"white\",\"showbackground\":true,\"ticks\":\"\",\"zerolinecolor\":\"white\",\"gridwidth\":2},\"zaxis\":{\"backgroundcolor\":\"#E5ECF6\",\"gridcolor\":\"white\",\"linecolor\":\"white\",\"showbackground\":true,\"ticks\":\"\",\"zerolinecolor\":\"white\",\"gridwidth\":2}},\"shapedefaults\":{\"line\":{\"color\":\"#2a3f5f\"}},\"annotationdefaults\":{\"arrowcolor\":\"#2a3f5f\",\"arrowhead\":0,\"arrowwidth\":1},\"geo\":{\"bgcolor\":\"white\",\"landcolor\":\"#E5ECF6\",\"subunitcolor\":\"white\",\"showland\":true,\"showlakes\":true,\"lakecolor\":\"white\"},\"title\":{\"x\":0.05},\"mapbox\":{\"style\":\"light\"}}},\"xaxis\":{\"anchor\":\"y\",\"domain\":[0.0,1.0],\"title\":{\"text\":\"Disposition\"}},\"yaxis\":{\"anchor\":\"x\",\"domain\":[0.0,1.0],\"title\":{\"text\":\"Count\"}},\"legend\":{\"tracegroupgap\":0},\"margin\":{\"t\":60},\"barmode\":\"relative\",\"title\":{\"text\":\"Disposition 2010\",\"x\":0.5}},                        {\"responsive\": true}                    ).then(function(){\n",
       "                            \n",
       "var gd = document.getElementById('2313c6ca-4326-4cae-b2b0-923895dedca1');\n",
       "var x = new MutationObserver(function (mutations, observer) {{\n",
       "        var display = window.getComputedStyle(gd).display;\n",
       "        if (!display || display === 'none') {{\n",
       "            console.log([gd, 'removed!']);\n",
       "            Plotly.purge(gd);\n",
       "            observer.disconnect();\n",
       "        }}\n",
       "}});\n",
       "\n",
       "// Listen for the removal of the full notebook cells\n",
       "var notebookContainer = gd.closest('#notebook-container');\n",
       "if (notebookContainer) {{\n",
       "    x.observe(notebookContainer, {childList: true});\n",
       "}}\n",
       "\n",
       "// Listen for the clearing of the current output cell\n",
       "var outputEl = gd.closest('.output');\n",
       "if (outputEl) {{\n",
       "    x.observe(outputEl, {childList: true});\n",
       "}}\n",
       "\n",
       "                        })                };                });            </script>        </div>"
      ]
     },
     "metadata": {},
     "output_type": "display_data"
    }
   ],
   "source": [
    "import plotly.express as px\n",
    "fig = px.bar(count2010, x='Disposition', y='Count')\n",
    "\n",
    "fig.update_layout(title_text='Disposition 2010', title_x = 0.5)\n",
    "\n",
    "fig.show()"
   ]
  },
  {
   "cell_type": "code",
   "execution_count": null,
   "id": "89fb804c",
   "metadata": {},
   "outputs": [],
   "source": []
  },
  {
   "cell_type": "code",
   "execution_count": null,
   "id": "aa5059eb",
   "metadata": {},
   "outputs": [],
   "source": []
  },
  {
   "cell_type": "code",
   "execution_count": null,
   "id": "50588b05",
   "metadata": {},
   "outputs": [],
   "source": []
  },
  {
   "cell_type": "code",
   "execution_count": 18,
   "id": "ead121fe",
   "metadata": {},
   "outputs": [],
   "source": [
    "caseYears2010 = dict(zip(dfcases2010['ddl_case_id'], dfcases2010['year']))\n",
    "caseYears2011 = dict(zip(dfcases2011['ddl_case_id'], dfcases2011['year']))\n",
    "caseYears2012 = dict(zip(dfcases2012['ddl_case_id'], dfcases2012['year']))\n",
    "caseYears2013 = dict(zip(dfcases2013['ddl_case_id'], dfcases2013['year']))\n",
    "caseYears2014 = dict(zip(dfcases2014['ddl_case_id'], dfcases2014['year']))\n",
    "caseYears2015 = dict(zip(dfcases2015['ddl_case_id'], dfcases2015['year']))\n",
    "caseYears2016 = dict(zip(dfcases2016['ddl_case_id'], dfcases2016['year']))\n",
    "caseYears2017 = dict(zip(dfcases2017['ddl_case_id'], dfcases2017['year']))\n",
    "caseYears2018 = dict(zip(dfcases2018['ddl_case_id'], dfcases2018['year']))"
   ]
  },
  {
   "cell_type": "code",
   "execution_count": 38,
   "id": "08409575",
   "metadata": {},
   "outputs": [],
   "source": [
    "dfActs['year'] = dfActs['ddl_case_id'].map(caseYears2010)"
   ]
  },
  {
   "cell_type": "code",
   "execution_count": 41,
   "id": "f134c774",
   "metadata": {},
   "outputs": [],
   "source": [
    "dfActs['year'] = dfActs['ddl_case_id'].map(caseYears2011)"
   ]
  },
  {
   "cell_type": "code",
   "execution_count": 25,
   "id": "289da7c7",
   "metadata": {},
   "outputs": [],
   "source": [
    "dfActs['year'] = dfActs['ddl_case_id'].map(caseYears2012)"
   ]
  },
  {
   "cell_type": "code",
   "execution_count": 26,
   "id": "bed961ff",
   "metadata": {},
   "outputs": [],
   "source": [
    "dfActs['year'] = dfActs['ddl_case_id'].map(caseYears2013)"
   ]
  },
  {
   "cell_type": "code",
   "execution_count": 27,
   "id": "20a3cc45",
   "metadata": {},
   "outputs": [],
   "source": [
    "dfActs['year'] = dfActs['ddl_case_id'].map(caseYears2014)"
   ]
  },
  {
   "cell_type": "code",
   "execution_count": 28,
   "id": "6166c395",
   "metadata": {},
   "outputs": [],
   "source": [
    "dfActs['year'] = dfActs['ddl_case_id'].map(caseYears2015)"
   ]
  },
  {
   "cell_type": "code",
   "execution_count": 29,
   "id": "985048cd",
   "metadata": {},
   "outputs": [],
   "source": [
    "dfActs['year'] = dfActs['ddl_case_id'].map(caseYears2016)"
   ]
  },
  {
   "cell_type": "code",
   "execution_count": 30,
   "id": "365d86b8",
   "metadata": {},
   "outputs": [],
   "source": [
    "dfActs['year'] = dfActs['ddl_case_id'].map(caseYears2017)"
   ]
  },
  {
   "cell_type": "code",
   "execution_count": 31,
   "id": "b20b3896",
   "metadata": {},
   "outputs": [],
   "source": [
    "dfActs['year'] = dfActs['ddl_case_id'].map(caseYears2018)"
   ]
  },
  {
   "cell_type": "code",
   "execution_count": 52,
   "id": "a5b779a6",
   "metadata": {},
   "outputs": [],
   "source": [
    "dfActs = dfActs.drop(['year'], axis=1)"
   ]
  },
  {
   "cell_type": "code",
   "execution_count": 1,
   "id": "73d9c762",
   "metadata": {},
   "outputs": [
    {
     "ename": "NameError",
     "evalue": "name 'dfActs' is not defined",
     "output_type": "error",
     "traceback": [
      "\u001b[0;31m---------------------------------------------------------------------------\u001b[0m",
      "\u001b[0;31mNameError\u001b[0m                                 Traceback (most recent call last)",
      "Cell \u001b[0;32mIn [1], line 1\u001b[0m\n\u001b[0;32m----> 1\u001b[0m dfActs2010 \u001b[38;5;241m=\u001b[39m \u001b[43mdfActs\u001b[49m\u001b[38;5;241m.\u001b[39mcopy()\n\u001b[1;32m      2\u001b[0m dfActs2011 \u001b[38;5;241m=\u001b[39m dfActs\u001b[38;5;241m.\u001b[39mcopy()\n\u001b[1;32m      3\u001b[0m dfActs2012 \u001b[38;5;241m=\u001b[39m dfActs\u001b[38;5;241m.\u001b[39mcopy()\n",
      "\u001b[0;31mNameError\u001b[0m: name 'dfActs' is not defined"
     ]
    }
   ],
   "source": [
    "dfActs2010 = dfActs.copy()\n",
    "dfActs2011 = dfActs.copy()\n",
    "dfActs2012 = dfActs.copy()\n",
    "dfActs2013 = dfActs.copy()\n",
    "dfActs2014 = dfActs.copy()\n",
    "dfActs2015 = dfActs.copy()\n",
    "dfActs2016 = dfActs.copy()\n",
    "dfActs2017 = dfActs.copy()\n",
    "dfActs2018 = dfActs.copy()"
   ]
  },
  {
   "cell_type": "code",
   "execution_count": null,
   "id": "d7d8e4ec",
   "metadata": {},
   "outputs": [],
   "source": []
  },
  {
   "cell_type": "code",
   "execution_count": null,
   "id": "493f6a40",
   "metadata": {},
   "outputs": [],
   "source": []
  }
 ],
 "metadata": {
  "kernelspec": {
   "display_name": "Python 3 (ipykernel)",
   "language": "python",
   "name": "python3"
  },
  "language_info": {
   "codemirror_mode": {
    "name": "ipython",
    "version": 3
   },
   "file_extension": ".py",
   "mimetype": "text/x-python",
   "name": "python",
   "nbconvert_exporter": "python",
   "pygments_lexer": "ipython3",
   "version": "3.10.8"
  }
 },
 "nbformat": 4,
 "nbformat_minor": 5
}
