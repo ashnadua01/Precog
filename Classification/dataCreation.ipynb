{
 "cells": [
  {
   "cell_type": "code",
   "execution_count": 1,
   "id": "7f256b62",
   "metadata": {},
   "outputs": [],
   "source": [
    "import pandas as pd\n",
    "import numpy as np"
   ]
  },
  {
   "cell_type": "code",
   "execution_count": 2,
   "id": "c94c917a",
   "metadata": {},
   "outputs": [],
   "source": [
    "dfActs = pd.read_csv('/Users/ashnadua/Desktop/PrecogTask/csv/acts_sections.csv', dtype={\n",
    "    'ddl_case_id': str,\n",
    "    'act': 'Int64',\n",
    "    'section': 'Int64',\n",
    "    'bailable_ipc': bytes,\n",
    "    'number_sections_ipc': bytes,\n",
    "    'criminal': int\n",
    "})"
   ]
  },
  {
   "cell_type": "code",
   "execution_count": 3,
   "id": "58fa2fb8",
   "metadata": {},
   "outputs": [],
   "source": [
    "dfActs = dfActs.drop(['number_sections_ipc'], axis=1)"
   ]
  },
  {
   "cell_type": "code",
   "execution_count": 50,
   "id": "987a468b",
   "metadata": {},
   "outputs": [],
   "source": [
    "dfActs2018 = dfActs.copy()"
   ]
  },
  {
   "cell_type": "code",
   "execution_count": 52,
   "id": "3de6357e",
   "metadata": {},
   "outputs": [],
   "source": [
    "dfcases2018 = pd.read_csv('/Users/ashnadua/Desktop/PrecogTask/csv/cases/cases/cases_2018.csv', dtype={\n",
    "    'ddl_case_id': str\n",
    "})"
   ]
  },
  {
   "cell_type": "code",
   "execution_count": 54,
   "id": "588fab2c",
   "metadata": {},
   "outputs": [],
   "source": [
    "casesYear2018 = dict(zip(dfcases2018['ddl_case_id'], dfcases2018['year']))"
   ]
  },
  {
   "cell_type": "code",
   "execution_count": 56,
   "id": "efcc165a",
   "metadata": {},
   "outputs": [],
   "source": [
    "dfActs2018['year'] = dfActs2018['ddl_case_id'].map(casesYear2018)"
   ]
  },
  {
   "cell_type": "code",
   "execution_count": 58,
   "id": "0053c23b",
   "metadata": {},
   "outputs": [],
   "source": [
    "dfActs2018 = dfActs2018.dropna(subset=['year'])"
   ]
  },
  {
   "cell_type": "code",
   "execution_count": 61,
   "id": "705c58fd",
   "metadata": {},
   "outputs": [],
   "source": [
    "dfActs2018 = dfActs2018.dropna(subset=['bailable_ipc'])"
   ]
  },
  {
   "cell_type": "code",
   "execution_count": 63,
   "id": "ac8083fb",
   "metadata": {},
   "outputs": [],
   "source": [
    "df2018 = pd.merge(dfcases2018, dfActs2018, on='ddl_case_id')"
   ]
  },
  {
   "cell_type": "code",
   "execution_count": 65,
   "id": "8f53e671",
   "metadata": {},
   "outputs": [],
   "source": [
    "df2018 = df2018.drop(['state_code', 'dist_code', 'court_no', 'cino', 'judge_position', 'female_defendant', 'female_petitioner', 'female_adv_def', 'female_adv_pet'], axis=1)"
   ]
  },
  {
   "cell_type": "code",
   "execution_count": 66,
   "id": "170488d0",
   "metadata": {},
   "outputs": [],
   "source": [
    "df2018 = df2018.drop(['date_of_filing', 'date_of_decision', 'date_first_list', 'date_last_list'], axis=1)"
   ]
  },
  {
   "cell_type": "code",
   "execution_count": 69,
   "id": "113f1868",
   "metadata": {},
   "outputs": [],
   "source": [
    "df2018 = df2018.drop(['year_x', 'year_y', 'date_next_list', 'ddl_case_id'], axis=1)"
   ]
  },
  {
   "cell_type": "code",
   "execution_count": 24,
   "id": "c81879c7",
   "metadata": {},
   "outputs": [],
   "source": [
    "dfDisp = pd.read_csv('/Users/ashnadua/Desktop/PrecogTask/csv/keys/keys/disp_name_key.csv')\n",
    "dfType = pd.read_csv('/Users/ashnadua/Desktop/PrecogTask/csv/keys/keys/type_name_key.csv')\n",
    "dfPurpose = pd.read_csv('/Users/ashnadua/Desktop/PrecogTask/csv/keys/keys/purpose_name_key.csv')"
   ]
  },
  {
   "cell_type": "code",
   "execution_count": 26,
   "id": "5d918702",
   "metadata": {},
   "outputs": [],
   "source": [
    "dispDict = dict(zip(dfDisp['disp_name'], dfDisp['disp_name_s']))"
   ]
  },
  {
   "cell_type": "code",
   "execution_count": 28,
   "id": "f43e38da",
   "metadata": {},
   "outputs": [],
   "source": [
    "typeDict = dict(zip(dfType['type_name'], dfType['type_name_s']))"
   ]
  },
  {
   "cell_type": "code",
   "execution_count": 29,
   "id": "06a3b601",
   "metadata": {},
   "outputs": [],
   "source": [
    "purposeDict = dict(zip(dfPurpose['purpose_name'], dfPurpose['purpose_name_s']))"
   ]
  },
  {
   "cell_type": "code",
   "execution_count": 71,
   "id": "67ae32dd",
   "metadata": {},
   "outputs": [],
   "source": [
    "df2018 = df2018.replace({\"disp_name\": dispDict})"
   ]
  },
  {
   "cell_type": "code",
   "execution_count": 72,
   "id": "f5a9af6c",
   "metadata": {},
   "outputs": [],
   "source": [
    "df2018 = df2018.replace({\"type_name\": typeDict})"
   ]
  },
  {
   "cell_type": "code",
   "execution_count": 73,
   "id": "ef089ce1",
   "metadata": {},
   "outputs": [],
   "source": [
    "df2018 = df2018.replace({\"purpose_name\": purposeDict})"
   ]
  },
  {
   "cell_type": "code",
   "execution_count": 74,
   "id": "1bb46ee1",
   "metadata": {},
   "outputs": [
    {
     "data": {
      "text/html": [
       "<div>\n",
       "<style scoped>\n",
       "    .dataframe tbody tr th:only-of-type {\n",
       "        vertical-align: middle;\n",
       "    }\n",
       "\n",
       "    .dataframe tbody tr th {\n",
       "        vertical-align: top;\n",
       "    }\n",
       "\n",
       "    .dataframe thead th {\n",
       "        text-align: right;\n",
       "    }\n",
       "</style>\n",
       "<table border=\"1\" class=\"dataframe\">\n",
       "  <thead>\n",
       "    <tr style=\"text-align: right;\">\n",
       "      <th></th>\n",
       "      <th>type_name</th>\n",
       "      <th>purpose_name</th>\n",
       "      <th>disp_name</th>\n",
       "      <th>act</th>\n",
       "      <th>section</th>\n",
       "      <th>bailable_ipc</th>\n",
       "      <th>criminal</th>\n",
       "    </tr>\n",
       "  </thead>\n",
       "  <tbody>\n",
       "    <tr>\n",
       "      <th>0</th>\n",
       "      <td>cri.m.a.</td>\n",
       "      <td>argument</td>\n",
       "      <td>disposition var missing</td>\n",
       "      <td>17353</td>\n",
       "      <td>137364</td>\n",
       "      <td>non-bailable</td>\n",
       "      <td>1</td>\n",
       "    </tr>\n",
       "    <tr>\n",
       "      <th>1</th>\n",
       "      <td>cri.m.a.</td>\n",
       "      <td>verification</td>\n",
       "      <td>disposition var missing</td>\n",
       "      <td>17353</td>\n",
       "      <td>1140139</td>\n",
       "      <td>bailable</td>\n",
       "      <td>1</td>\n",
       "    </tr>\n",
       "    <tr>\n",
       "      <th>2</th>\n",
       "      <td>cri.m.a.</td>\n",
       "      <td>argument</td>\n",
       "      <td>disposition var missing</td>\n",
       "      <td>17353</td>\n",
       "      <td>773491</td>\n",
       "      <td>non-bailable</td>\n",
       "      <td>1</td>\n",
       "    </tr>\n",
       "    <tr>\n",
       "      <th>3</th>\n",
       "      <td>cri.m.a.</td>\n",
       "      <td>order</td>\n",
       "      <td>abated</td>\n",
       "      <td>17353</td>\n",
       "      <td>773491</td>\n",
       "      <td>non-bailable</td>\n",
       "      <td>1</td>\n",
       "    </tr>\n",
       "    <tr>\n",
       "      <th>4</th>\n",
       "      <td>cri.m.a.</td>\n",
       "      <td>order</td>\n",
       "      <td>disposition var missing</td>\n",
       "      <td>17353</td>\n",
       "      <td>1064270</td>\n",
       "      <td>non-bailable</td>\n",
       "      <td>1</td>\n",
       "    </tr>\n",
       "    <tr>\n",
       "      <th>...</th>\n",
       "      <td>...</td>\n",
       "      <td>...</td>\n",
       "      <td>...</td>\n",
       "      <td>...</td>\n",
       "      <td>...</td>\n",
       "      <td>...</td>\n",
       "      <td>...</td>\n",
       "    </tr>\n",
       "    <tr>\n",
       "      <th>3359553</th>\n",
       "      <td>spl. case.  pocso</td>\n",
       "      <td>statement under section 313 cr.p.c.</td>\n",
       "      <td>acquitted</td>\n",
       "      <td>17353</td>\n",
       "      <td>954558</td>\n",
       "      <td>depends</td>\n",
       "      <td>1</td>\n",
       "    </tr>\n",
       "    <tr>\n",
       "      <th>3359554</th>\n",
       "      <td>spl. case.  pocso</td>\n",
       "      <td>evidence</td>\n",
       "      <td>acquitted</td>\n",
       "      <td>17353</td>\n",
       "      <td>954558</td>\n",
       "      <td>depends</td>\n",
       "      <td>1</td>\n",
       "    </tr>\n",
       "    <tr>\n",
       "      <th>3359555</th>\n",
       "      <td>spl. case.  pocso</td>\n",
       "      <td>argument</td>\n",
       "      <td>acquitted</td>\n",
       "      <td>17353</td>\n",
       "      <td>954558</td>\n",
       "      <td>depends</td>\n",
       "      <td>1</td>\n",
       "    </tr>\n",
       "    <tr>\n",
       "      <th>3359556</th>\n",
       "      <td>s.c. 302 of ipc</td>\n",
       "      <td>statement under section 313 cr.p.c.</td>\n",
       "      <td>acquitted</td>\n",
       "      <td>17353</td>\n",
       "      <td>762473</td>\n",
       "      <td>non-bailable</td>\n",
       "      <td>1</td>\n",
       "    </tr>\n",
       "    <tr>\n",
       "      <th>3359557</th>\n",
       "      <td>s.c. 302 of ipc</td>\n",
       "      <td>argument</td>\n",
       "      <td>acquitted</td>\n",
       "      <td>17353</td>\n",
       "      <td>762473</td>\n",
       "      <td>non-bailable</td>\n",
       "      <td>1</td>\n",
       "    </tr>\n",
       "  </tbody>\n",
       "</table>\n",
       "<p>3359558 rows × 7 columns</p>\n",
       "</div>"
      ],
      "text/plain": [
       "                 type_name                         purpose_name  \\\n",
       "0                 cri.m.a.                             argument   \n",
       "1                 cri.m.a.                         verification   \n",
       "2                 cri.m.a.                             argument   \n",
       "3                 cri.m.a.                                order   \n",
       "4                 cri.m.a.                                order   \n",
       "...                    ...                                  ...   \n",
       "3359553  spl. case.  pocso  statement under section 313 cr.p.c.   \n",
       "3359554  spl. case.  pocso                             evidence   \n",
       "3359555  spl. case.  pocso                             argument   \n",
       "3359556    s.c. 302 of ipc  statement under section 313 cr.p.c.   \n",
       "3359557    s.c. 302 of ipc                             argument   \n",
       "\n",
       "                       disp_name    act  section  bailable_ipc  criminal  \n",
       "0        disposition var missing  17353   137364  non-bailable         1  \n",
       "1        disposition var missing  17353  1140139      bailable         1  \n",
       "2        disposition var missing  17353   773491  non-bailable         1  \n",
       "3                         abated  17353   773491  non-bailable         1  \n",
       "4        disposition var missing  17353  1064270  non-bailable         1  \n",
       "...                          ...    ...      ...           ...       ...  \n",
       "3359553                acquitted  17353   954558       depends         1  \n",
       "3359554                acquitted  17353   954558       depends         1  \n",
       "3359555                acquitted  17353   954558       depends         1  \n",
       "3359556                acquitted  17353   762473  non-bailable         1  \n",
       "3359557                acquitted  17353   762473  non-bailable         1  \n",
       "\n",
       "[3359558 rows x 7 columns]"
      ]
     },
     "execution_count": 74,
     "metadata": {},
     "output_type": "execute_result"
    }
   ],
   "source": [
    "df2018"
   ]
  },
  {
   "cell_type": "code",
   "execution_count": 51,
   "id": "2c43bb20",
   "metadata": {},
   "outputs": [],
   "source": [
    "df2018.to_csv('df2018.csv')"
   ]
  }
 ],
 "metadata": {
  "kernelspec": {
   "display_name": "Python 3 (ipykernel)",
   "language": "python",
   "name": "python3"
  },
  "language_info": {
   "codemirror_mode": {
    "name": "ipython",
    "version": 3
   },
   "file_extension": ".py",
   "mimetype": "text/x-python",
   "name": "python",
   "nbconvert_exporter": "python",
   "pygments_lexer": "ipython3",
   "version": "3.10.8"
  }
 },
 "nbformat": 4,
 "nbformat_minor": 5
}
